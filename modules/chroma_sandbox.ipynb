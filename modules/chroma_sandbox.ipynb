{
 "cells": [
  {
   "cell_type": "code",
   "execution_count": null,
   "metadata": {},
   "outputs": [],
   "source": [
    "from langchain.vectorstores import FAISS\n",
    "from langchain.text_splitter import RecursiveCharacterTextSplitter\n",
    "from langchain import OpenAI\n",
    "from langchain.chains import RetrievalQA\n",
    "from langchain.document_loaders import DirectoryLoader\n",
    "import magic\n",
    "import os\n",
    "import nltk\n",
    "\n",
    "openai_api_key = os.getenv(\"OPENAI_API_KEY\")\n",
    "data_location= os.getenv(\"VECTOR_DATA_DIR\")"
   ]
  },
  {
   "cell_type": "markdown",
   "metadata": {},
   "source": [
    "## Chroma"
   ]
  },
  {
   "cell_type": "code",
   "execution_count": 1,
   "metadata": {},
   "outputs": [
    {
     "name": "stderr",
     "output_type": "stream",
     "text": [
      "/home/jphillips/ai_agents/.venv/lib/python3.10/site-packages/InstructorEmbedding/instructor.py:7: TqdmWarning: IProgress not found. Please update jupyter and ipywidgets. See https://ipywidgets.readthedocs.io/en/stable/user_install.html\n",
      "  from tqdm.autonotebook import trange\n"
     ]
    },
    {
     "name": "stdout",
     "output_type": "stream",
     "text": [
      "load INSTRUCTOR_Transformer\n",
      "max_seq_length  512\n"
     ]
    },
    {
     "name": "stderr",
     "output_type": "stream",
     "text": [
      "\u001b[32m2023-06-25 13:44:49.956\u001b[0m | \u001b[1mINFO    \u001b[0m | \u001b[36mmodules.vector_stores.loaders.pypdf_load_strategy\u001b[0m:\u001b[36mload\u001b[0m:\u001b[36m50\u001b[0m - \u001b[1mLoaded 355 documents from ../data\u001b[0m\n"
     ]
    },
    {
     "name": "stdout",
     "output_type": "stream",
     "text": [
      "load INSTRUCTOR_Transformer\n",
      "max_seq_length  512\n"
     ]
    }
   ],
   "source": [
    "from modules.vector_stores.vector_stores.chroma_manager import get_default_chroma_mgr\n",
    "\n",
    "chroma_mgr = get_default_chroma_mgr(persisted=True)"
   ]
  },
  {
   "cell_type": "code",
   "execution_count": 3,
   "metadata": {},
   "outputs": [
    {
     "name": "stderr",
     "output_type": "stream",
     "text": [
      "\u001b[32m2023-06-25 13:45:48.674\u001b[0m | \u001b[1mINFO    \u001b[0m | \u001b[36mmodules.vector_stores.vector_stores.chroma_manager\u001b[0m:\u001b[36mpersist\u001b[0m:\u001b[36m27\u001b[0m - \u001b[1mPersisting Chroma to disk...\u001b[0m\n",
      "\u001b[32m2023-06-25 13:45:48.710\u001b[0m | \u001b[1mINFO    \u001b[0m | \u001b[36mmodules.vector_stores.vector_stores.chroma_manager\u001b[0m:\u001b[36mpersist\u001b[0m:\u001b[36m29\u001b[0m - \u001b[1mChroma saved to \u001b[0m\n"
     ]
    }
   ],
   "source": [
    "chroma_mgr.persist()"
   ]
  },
  {
   "cell_type": "markdown",
   "metadata": {},
   "source": [
    "## FAISS"
   ]
  },
  {
   "cell_type": "code",
   "execution_count": null,
   "metadata": {},
   "outputs": [],
   "source": [
    "from modules.vector_stores.loaders.pypdf_load_strategy import PyPDFLoadStrategy, PyPDFConfig, get_default_pypdf_loader\n",
    "from modules.vector_stores.embedding.openai import OpenAIEmbeddings, OpenAIEmbedConfig, get_default_openai_embeddings\n",
    "def get_example_pdf_embedding():\n",
    "    dir_location = \"../data\"\n",
    "    loader = get_default_pypdf_loader(dir_location)\n",
    "    documents = loader.load()\n",
    "    embeddings = get_default_openai_embeddings()\n",
    "    index = FAISS.from_documents(documents, embeddings)\n",
    "    return index\n",
    "index = get_example_pdf_embedding()\n",
    "llm = OpenAI(openai_api_key=openai_api_key)\n",
    "qa = RetrievalQA.from_chain_type(llm=llm, chain_type=\"stuff\", retriever=index.as_retriever())\n",
    "qa = RetrievalQA.from_chain_type(llm=llm,\n",
    "                                chain_type=\"stuff\",\n",
    "                                retriever=index.as_retriever(),\n",
    "                                return_source_documents=True)\n",
    "query = \"What is a date table?\"\n",
    "result = qa({\"query\": query})"
   ]
  },
  {
   "cell_type": "code",
   "execution_count": null,
   "metadata": {},
   "outputs": [],
   "source": [
    "result"
   ]
  },
  {
   "cell_type": "code",
   "execution_count": null,
   "metadata": {},
   "outputs": [],
   "source": [
    "\n",
    "docsearch = FAISS.from_documents(documents, embeddings)\n",
    "llm = OpenAI(openai_api_key=openai_api_key)\n",
    "qa = RetrievalQA.from_chain_type(llm=llm, chain_type=\"stuff\", retriever=docsearch.as_retriever())\n"
   ]
  },
  {
   "cell_type": "code",
   "execution_count": null,
   "metadata": {},
   "outputs": [],
   "source": [
    "qa = RetrievalQA.from_chain_type(llm=llm,\n",
    "                                chain_type=\"stuff\",\n",
    "                                retriever=docsearch.as_retriever(),\n",
    "                                return_source_documents=True)\n",
    "query = \"What is a date table?\"\n",
    "result = qa({\"query\": query})"
   ]
  },
  {
   "cell_type": "code",
   "execution_count": null,
   "metadata": {},
   "outputs": [],
   "source": [
    "result\n"
   ]
  }
 ],
 "metadata": {
  "kernelspec": {
   "display_name": ".venv",
   "language": "python",
   "name": "python3"
  },
  "language_info": {
   "codemirror_mode": {
    "name": "ipython",
    "version": 3
   },
   "file_extension": ".py",
   "mimetype": "text/x-python",
   "name": "python",
   "nbconvert_exporter": "python",
   "pygments_lexer": "ipython3",
   "version": "3.10.6"
  },
  "orig_nbformat": 4
 },
 "nbformat": 4,
 "nbformat_minor": 2
}
