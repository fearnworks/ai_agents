{
 "cells": [
  {
   "cell_type": "code",
   "execution_count": 1,
   "metadata": {},
   "outputs": [
    {
     "name": "stdout",
     "output_type": "stream",
     "text": [
      "Collecting git+https://github.com/fearnworks/fearnworks-util.git\n",
      "  Cloning https://github.com/fearnworks/fearnworks-util.git to /tmp/pip-req-build-nxwep30g\n",
      "  Running command git clone --filter=blob:none --quiet https://github.com/fearnworks/fearnworks-util.git /tmp/pip-req-build-nxwep30g\n",
      "  Resolved https://github.com/fearnworks/fearnworks-util.git to commit b8591a12faa3e3170a126c94496a64e4307aace8\n",
      "  Installing build dependencies ... \u001b[?25ldone\n",
      "\u001b[?25h  Getting requirements to build wheel ... \u001b[?25ldone\n",
      "\u001b[?25h  Preparing metadata (pyproject.toml) ... \u001b[?25ldone\n",
      "\u001b[?25hBuilding wheels for collected packages: fwutil\n",
      "  Building wheel for fwutil (pyproject.toml) ... \u001b[?25ldone\n",
      "\u001b[?25h  Created wheel for fwutil: filename=fwutil-0.0.1-py2.py3-none-any.whl size=58857 sha256=487d9c663262fe08d11d49a1462a0337052411b28230ab6780cbe32b8c7d1036\n",
      "  Stored in directory: /tmp/pip-ephem-wheel-cache-2haodjnk/wheels/0d/73/fc/578bc44e245e8d4f44b46d8a2d1da8e216fe23511373676d95\n",
      "Successfully built fwutil\n",
      "Installing collected packages: fwutil\n",
      "Successfully installed fwutil-0.0.1\n"
     ]
    }
   ],
   "source": [
    "!pip install git+https://github.com/fearnworks/fearnworks-util.git"
   ]
  },
  {
   "cell_type": "code",
   "execution_count": 3,
   "metadata": {},
   "outputs": [
    {
     "ename": "ModuleNotFoundError",
     "evalue": "No module named 'azure_interface'",
     "output_type": "error",
     "traceback": [
      "\u001b[0;31m---------------------------------------------------------------------------\u001b[0m",
      "\u001b[0;31mModuleNotFoundError\u001b[0m                       Traceback (most recent call last)",
      "Cell \u001b[0;32mIn[3], line 3\u001b[0m\n\u001b[1;32m      1\u001b[0m \u001b[39mimport\u001b[39;00m \u001b[39mpandas\u001b[39;00m \u001b[39mas\u001b[39;00m \u001b[39mpd\u001b[39;00m\n\u001b[1;32m      2\u001b[0m \u001b[39mimport\u001b[39;00m \u001b[39mfwutil\u001b[39;00m\u001b[39m.\u001b[39;00m\u001b[39mutils\u001b[39;00m \u001b[39mas\u001b[39;00m \u001b[39mUtils\u001b[39;00m\n\u001b[0;32m----> 3\u001b[0m \u001b[39mimport\u001b[39;00m \u001b[39mfwutil\u001b[39;00m\u001b[39m.\u001b[39;00m\u001b[39mazure_interface\u001b[39;00m \u001b[39mas\u001b[39;00m \u001b[39mAzureInterface\u001b[39;00m\n\u001b[1;32m      4\u001b[0m \u001b[39mfrom\u001b[39;00m \u001b[39mdotenv\u001b[39;00m \u001b[39mimport\u001b[39;00m find_dotenv, load_dotenv\n\u001b[1;32m      5\u001b[0m \u001b[39mimport\u001b[39;00m \u001b[39mos\u001b[39;00m \n",
      "File \u001b[0;32m~/housefearn/hqsync/.conda/lib/python3.11/site-packages/fwutil/azure_interface/__init__.py:1\u001b[0m\n\u001b[0;32m----> 1\u001b[0m \u001b[39mfrom\u001b[39;00m \u001b[39m.\u001b[39;00m\u001b[39mazure_blob_storage_manager\u001b[39;00m \u001b[39mimport\u001b[39;00m AzureBlobStorageManager\n\u001b[1;32m      2\u001b[0m \u001b[39mfrom\u001b[39;00m \u001b[39m.\u001b[39;00m\u001b[39mblob_data_loader\u001b[39;00m \u001b[39mimport\u001b[39;00m BlobDataLoader\n",
      "File \u001b[0;32m~/housefearn/hqsync/.conda/lib/python3.11/site-packages/fwutil/azure_interface/azure_blob_storage_manager.py:7\u001b[0m\n\u001b[1;32m      4\u001b[0m \u001b[39mfrom\u001b[39;00m \u001b[39mio\u001b[39;00m \u001b[39mimport\u001b[39;00m BytesIO\n\u001b[1;32m      5\u001b[0m \u001b[39mfrom\u001b[39;00m \u001b[39mtyping\u001b[39;00m \u001b[39mimport\u001b[39;00m Dict, List, Union\n\u001b[0;32m----> 7\u001b[0m \u001b[39mimport\u001b[39;00m \u001b[39mazure_interface\u001b[39;00m \u001b[39mas\u001b[39;00m \u001b[39mAzureInterface\u001b[39;00m\n\u001b[1;32m      8\u001b[0m \u001b[39mimport\u001b[39;00m \u001b[39mpandas\u001b[39;00m \u001b[39mas\u001b[39;00m \u001b[39mpd\u001b[39;00m\n\u001b[1;32m      9\u001b[0m \u001b[39mimport\u001b[39;00m \u001b[39mutils\u001b[39;00m \u001b[39mas\u001b[39;00m \u001b[39mUtils\u001b[39;00m\n",
      "\u001b[0;31mModuleNotFoundError\u001b[0m: No module named 'azure_interface'"
     ]
    }
   ],
   "source": [
    "import pandas as pd\n",
    "import fwutil.utils as Utils\n",
    "import fwutil.azure_interface as AzureInterface\n",
    "from dotenv import find_dotenv, load_dotenv\n",
    "import os \n",
    "load_dotenv(find_dotenv())\n",
    "current_dir = os.getcwd()\n",
    "log_dir = (os.path.join(os.path.dirname(os.path.dirname(current_dir))))\n",
    "print(current_dir)\n",
    "print(log_dir)\n",
    "Utils.PipelineLogger.config_logger({}, data_dir=log_dir)\n",
    "logger = Utils.PipelineLogger.get_logger(__name__)\n",
    "azure_blob_storage_manager = AzureInterface.AzureBlobStorageManager()\n",
    "azure_blob_storage_manager.list_containers()\n",
    "blobs = azure_blob_storage_manager.list_blobs('fearn-finance')\n",
    "azure_blob_storage_manager.log_container_info()\n"
   ]
  }
 ],
 "metadata": {
  "kernelspec": {
   "display_name": ".venv",
   "language": "python",
   "name": "python3"
  },
  "language_info": {
   "codemirror_mode": {
    "name": "ipython",
    "version": 3
   },
   "file_extension": ".py",
   "mimetype": "text/x-python",
   "name": "python",
   "nbconvert_exporter": "python",
   "pygments_lexer": "ipython3",
   "version": "3.11.4"
  },
  "orig_nbformat": 4
 },
 "nbformat": 4,
 "nbformat_minor": 2
}
